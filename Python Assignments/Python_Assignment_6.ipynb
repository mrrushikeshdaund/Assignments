{
  "nbformat": 4,
  "nbformat_minor": 0,
  "metadata": {
    "colab": {
      "provenance": [],
      "collapsed_sections": []
    },
    "kernelspec": {
      "name": "python3",
      "display_name": "Python 3"
    },
    "language_info": {
      "name": "python"
    }
  },
  "cells": [
    {
      "cell_type": "markdown",
      "source": [
        "<h1 align='center'>Assignment No 6</h1>\n"
      ],
      "metadata": {
        "id": "UNWGsDd4_Kpc"
      }
    },
    {
      "cell_type": "markdown",
      "source": [
        "Q1. What are escape characters, and how do you use them?"
      ],
      "metadata": {
        "id": "spZwsedj_WKG"
      }
    },
    {
      "cell_type": "markdown",
      "source": [
        "- An escape character is a backslash \\ followed by the character you want to insert \n",
        "\n",
        "code | Result\n",
        "- | -\n",
        "```\\'``` | Single Quote\n",
        "```\\\\``` | Backslash\n",
        "\\n | New Line \n",
        "\\r | Carriage Return\n",
        "\\t | Tab\n",
        "\\b | Backspace\n",
        "\\f | Form Feed\n",
        "\\ooo | Octal Value\n",
        "\\xhh | Hex Value\n",
        "\n"
      ],
      "metadata": {
        "id": "JNuCSJoP_qiB"
      }
    },
    {
      "cell_type": "code",
      "execution_count": null,
      "metadata": {
        "colab": {
          "base_uri": "https://localhost:8080/"
        },
        "id": "kTH18k4j_AZP",
        "outputId": "d45ace8c-b014-4d3d-eb82-abceab3fd8c3"
      },
      "outputs": [
        {
          "output_type": "stream",
          "name": "stdout",
          "text": [
            "I'am Rushikesh.\n"
          ]
        }
      ],
      "source": [
        "text = 'I\\'am Rushikesh.'\n",
        "print(text)"
      ]
    },
    {
      "cell_type": "code",
      "source": [
        "s = 'this will insert one \\\\ new '\n",
        "print(s)"
      ],
      "metadata": {
        "colab": {
          "base_uri": "https://localhost:8080/"
        },
        "id": "j6IEE6lsB_Ii",
        "outputId": "11963ba3-4871-474e-c332-a27680269dad"
      },
      "execution_count": null,
      "outputs": [
        {
          "output_type": "stream",
          "name": "stdout",
          "text": [
            "this will insert one \\ new \n"
          ]
        }
      ]
    },
    {
      "cell_type": "code",
      "source": [
        "s = 'i am a rushikesh \\n daund'\n",
        "print(s)"
      ],
      "metadata": {
        "colab": {
          "base_uri": "https://localhost:8080/"
        },
        "id": "8W1hBiGJCVE5",
        "outputId": "8808d9ec-6c8e-49b2-d392-7ad5cc576c48"
      },
      "execution_count": null,
      "outputs": [
        {
          "output_type": "stream",
          "name": "stdout",
          "text": [
            "i am a rushikesh \n",
            " daund\n"
          ]
        }
      ]
    },
    {
      "cell_type": "markdown",
      "source": [
        "Q2. What do the escape characters n and t stand for?"
      ],
      "metadata": {
        "id": "9jmGcunbT2VO"
      }
    },
    {
      "cell_type": "markdown",
      "source": [
        "- n is stand for new line \n",
        "```print(\"rushikesh \\n daund\")```\n",
        "- t is stand for tab space ```print(\"this is an \\t apple\")``` "
      ],
      "metadata": {
        "id": "udC8i-IFUKRc"
      }
    },
    {
      "cell_type": "code",
      "source": [
        "print(\"rushikesh \\n daund\")\n",
        "print(\"this is an \\t apple\")"
      ],
      "metadata": {
        "colab": {
          "base_uri": "https://localhost:8080/"
        },
        "id": "X2GU4GblTu_S",
        "outputId": "5f8b54af-5fee-4f4d-f20a-330db801b069"
      },
      "execution_count": null,
      "outputs": [
        {
          "output_type": "stream",
          "name": "stdout",
          "text": [
            "rushikesh \n",
            " daund\n",
            "this is an \t apple\n"
          ]
        }
      ]
    },
    {
      "cell_type": "markdown",
      "source": [
        "Q3. What is the way to include backslash characters in a string?"
      ],
      "metadata": {
        "id": "m8HGVYUEU_Nx"
      }
    },
    {
      "cell_type": "markdown",
      "source": [
        "escape the charachters in string value that repersent the backslash character.<br>\n",
        "for example"
      ],
      "metadata": {
        "id": "xFfDwGoeXfgR"
      }
    },
    {
      "cell_type": "code",
      "source": [
        "print(\"this \\\\ rushi\\nkesh \\b daund\")"
      ],
      "metadata": {
        "colab": {
          "base_uri": "https://localhost:8080/"
        },
        "id": "43u_40ekUwwN",
        "outputId": "94ef1b2d-411d-4df6-f3a8-a02735b4a457"
      },
      "execution_count": null,
      "outputs": [
        {
          "output_type": "stream",
          "name": "stdout",
          "text": [
            "this \\ rushi\n",
            "kesh \b daund\n"
          ]
        }
      ]
    },
    {
      "cell_type": "markdown",
      "source": [
        "Q6. What are the values of the given expressions?\n",
        "```'Hello, world!'[1]\n",
        "'Hello, world!'[0:5]\n",
        "'Hello, world!'[:5]\n",
        "'Hello, world!'[3:]\n"
      ],
      "metadata": {
        "id": "ULCfAcguV4O_"
      }
    },
    {
      "cell_type": "code",
      "source": [
        "print('Hello, world!'[1])"
      ],
      "metadata": {
        "id": "SOKg34cJi2RR",
        "colab": {
          "base_uri": "https://localhost:8080/"
        },
        "outputId": "4552c871-084b-4475-c048-388722283b69"
      },
      "execution_count": null,
      "outputs": [
        {
          "output_type": "stream",
          "name": "stdout",
          "text": [
            "e\n"
          ]
        }
      ]
    },
    {
      "cell_type": "code",
      "source": [
        "print('Hello, world!'[0:5])"
      ],
      "metadata": {
        "colab": {
          "base_uri": "https://localhost:8080/"
        },
        "id": "Q-RLIcaMZUfe",
        "outputId": "da5b7d89-1578-4793-a7a0-d0c2657aaf48"
      },
      "execution_count": null,
      "outputs": [
        {
          "output_type": "stream",
          "name": "stdout",
          "text": [
            "Hello\n"
          ]
        }
      ]
    },
    {
      "cell_type": "code",
      "source": [
        "print('Hello, world!'[:5])"
      ],
      "metadata": {
        "colab": {
          "base_uri": "https://localhost:8080/"
        },
        "id": "Ap14yQPSZZNt",
        "outputId": "563317d2-68f2-465c-d398-e8e9e6b8f9fe"
      },
      "execution_count": null,
      "outputs": [
        {
          "output_type": "stream",
          "name": "stdout",
          "text": [
            "Hello\n"
          ]
        }
      ]
    },
    {
      "cell_type": "code",
      "source": [
        "print('Hello, world!'[3:])"
      ],
      "metadata": {
        "colab": {
          "base_uri": "https://localhost:8080/"
        },
        "id": "Y4anRzrsZcun",
        "outputId": "4b6d5059-cfc6-4a1e-84c0-04a26881f75d"
      },
      "execution_count": null,
      "outputs": [
        {
          "output_type": "stream",
          "name": "stdout",
          "text": [
            "lo, world!\n"
          ]
        }
      ]
    },
    {
      "cell_type": "markdown",
      "source": [
        "Q7. What are the values of the following expressions?\n",
        "```'Hello'.upper()\n",
        "'Hello'.upper().isupper()\n",
        "'Hello'.upper().lower()```"
      ],
      "metadata": {
        "id": "fiPBMpfwWjIg"
      }
    },
    {
      "cell_type": "code",
      "source": [
        "print('hello'.upper())"
      ],
      "metadata": {
        "colab": {
          "base_uri": "https://localhost:8080/"
        },
        "id": "DidXkwk0Wed_",
        "outputId": "0ecad77c-f1a7-4be1-e09c-68f6aade6f37"
      },
      "execution_count": null,
      "outputs": [
        {
          "output_type": "stream",
          "name": "stdout",
          "text": [
            "HELLO\n"
          ]
        }
      ]
    },
    {
      "cell_type": "code",
      "source": [
        "print('Hello'.upper().isupper())"
      ],
      "metadata": {
        "colab": {
          "base_uri": "https://localhost:8080/"
        },
        "id": "gx2chyyYZDLx",
        "outputId": "c7ec16a2-07fe-49b7-d795-0f71f57ba19c"
      },
      "execution_count": null,
      "outputs": [
        {
          "output_type": "stream",
          "name": "stdout",
          "text": [
            "True\n"
          ]
        }
      ]
    },
    {
      "cell_type": "code",
      "source": [
        "print('Hello'.upper().lower())"
      ],
      "metadata": {
        "colab": {
          "base_uri": "https://localhost:8080/"
        },
        "id": "1QxM7WNuZCuH",
        "outputId": "4a34e247-d171-4d9f-e405-f15d8ca57e23"
      },
      "execution_count": null,
      "outputs": [
        {
          "output_type": "stream",
          "name": "stdout",
          "text": [
            "hello\n"
          ]
        }
      ]
    },
    {
      "cell_type": "markdown",
      "source": [
        "Q8. What are the values of the following expressions?<br>\n",
        "```Remember, remember, the fifth of July.'.split()```\n",
        "\n"
      ],
      "metadata": {
        "id": "-DXh6yscXP_u"
      }
    },
    {
      "cell_type": "code",
      "source": [
        "'Remember, remember, the fifth of July.'.split()"
      ],
      "metadata": {
        "colab": {
          "base_uri": "https://localhost:8080/"
        },
        "id": "HC1Nq5L9XJmT",
        "outputId": "66418c74-79ba-4056-8d21-16676fe6ec5e"
      },
      "execution_count": null,
      "outputs": [
        {
          "output_type": "execute_result",
          "data": {
            "text/plain": [
              "['Remember,', 'remember,', 'the', 'fifth', 'of', 'July.']"
            ]
          },
          "metadata": {},
          "execution_count": 3
        }
      ]
    },
    {
      "cell_type": "markdown",
      "source": [
        "```'-'.join('There can only one.'.split())```"
      ],
      "metadata": {
        "id": "1DFB3_VsYyh2"
      }
    },
    {
      "cell_type": "code",
      "source": [
        "'-'.join('There can only one.'.split())"
      ],
      "metadata": {
        "colab": {
          "base_uri": "https://localhost:8080/",
          "height": 35
        },
        "id": "nEW9NviJYtHp",
        "outputId": "7ca1182f-3b86-4215-b125-84c12c3edc03"
      },
      "execution_count": null,
      "outputs": [
        {
          "output_type": "execute_result",
          "data": {
            "text/plain": [
              "'There-can-only-one.'"
            ],
            "application/vnd.google.colaboratory.intrinsic+json": {
              "type": "string"
            }
          },
          "metadata": {},
          "execution_count": 5
        }
      ]
    },
    {
      "cell_type": "markdown",
      "source": [
        "Q9. What are the methods for right-justifying, left-justifying, and centering a string?"
      ],
      "metadata": {
        "id": "ERkm7B_TaAr2"
      }
    },
    {
      "cell_type": "markdown",
      "source": [
        "The `rjust` method will right align the string , using a specified character as the fill character."
      ],
      "metadata": {
        "id": "XUn5AmcdajcT"
      }
    },
    {
      "cell_type": "code",
      "source": [
        "s = 'Rushikesh'\n",
        "\n",
        "print(s.rjust(20,\"*\"))"
      ],
      "metadata": {
        "colab": {
          "base_uri": "https://localhost:8080/"
        },
        "id": "nw0UJa-mY4G-",
        "outputId": "c67fb363-776a-4921-9da5-2b0bbd0d4c3d"
      },
      "execution_count": null,
      "outputs": [
        {
          "output_type": "stream",
          "name": "stdout",
          "text": [
            "***********Rushikesh\n"
          ]
        }
      ]
    },
    {
      "cell_type": "markdown",
      "source": [
        "The `ljust` method will left align the string , using a specified character as the fill character"
      ],
      "metadata": {
        "id": "QkVKCYizbNhj"
      }
    },
    {
      "cell_type": "code",
      "source": [
        "s = 'Daund'\n",
        "print(s.ljust(30,'+'))"
      ],
      "metadata": {
        "colab": {
          "base_uri": "https://localhost:8080/"
        },
        "id": "H6K8WGU5bK8z",
        "outputId": "0e4138dd-f380-429e-f9f3-33ece6a13e7f"
      },
      "execution_count": null,
      "outputs": [
        {
          "output_type": "stream",
          "name": "stdout",
          "text": [
            "Daund+++++++++++++++++++++++++\n"
          ]
        }
      ]
    },
    {
      "cell_type": "markdown",
      "source": [
        "The `center` method will left align the string, using a specified character as the fill character\n",
        "\n",
        "\n"
      ],
      "metadata": {
        "id": "YjR_VnarbqV4"
      }
    },
    {
      "cell_type": "code",
      "source": [
        "s = 'Rushikesh'\n",
        "print(s.center(40,'&'))"
      ],
      "metadata": {
        "colab": {
          "base_uri": "https://localhost:8080/"
        },
        "id": "69mnjbwMbog4",
        "outputId": "46556ba1-0ac7-47e8-9a0e-268c7c7f51d7"
      },
      "execution_count": null,
      "outputs": [
        {
          "output_type": "stream",
          "name": "stdout",
          "text": [
            "&&&&&&&&&&&&&&&Rushikesh&&&&&&&&&&&&&&&&\n"
          ]
        }
      ]
    },
    {
      "cell_type": "markdown",
      "source": [
        "Q10. What is the best way to remove whitespace characters from the start or end?"
      ],
      "metadata": {
        "id": "cwuj2bwCcpQw"
      }
    },
    {
      "cell_type": "markdown",
      "source": [
        "There are Different types of methods\n",
        "- for Right trim `rstrip()`\n",
        "- for Left trim `lstrip()`\n",
        "- for both side trim `strip()`"
      ],
      "metadata": {
        "id": "3P6lqhjEcuUe"
      }
    },
    {
      "cell_type": "code",
      "source": [
        "s = \"            Rushikesh Krishna Daund              \"\n",
        "print(s.rstrip(\" \"))"
      ],
      "metadata": {
        "colab": {
          "base_uri": "https://localhost:8080/"
        },
        "id": "FCj14gRMcMk7",
        "outputId": "ea863bb6-57b8-495f-bc80-07c068d9696f"
      },
      "execution_count": null,
      "outputs": [
        {
          "output_type": "stream",
          "name": "stdout",
          "text": [
            "            Rushikesh Krishna Daund\n"
          ]
        }
      ]
    },
    {
      "cell_type": "code",
      "source": [
        "print(s.lstrip(\" \"))"
      ],
      "metadata": {
        "colab": {
          "base_uri": "https://localhost:8080/"
        },
        "id": "zZ7VvRqreP21",
        "outputId": "fc200b4c-1a86-4eaf-fc86-bde78e276ba7"
      },
      "execution_count": null,
      "outputs": [
        {
          "output_type": "stream",
          "name": "stdout",
          "text": [
            "Rushikesh Krishna Daund              \n"
          ]
        }
      ]
    },
    {
      "cell_type": "code",
      "source": [
        "print(s.strip(\" \"))"
      ],
      "metadata": {
        "colab": {
          "base_uri": "https://localhost:8080/"
        },
        "id": "M2QTaWDueaKn",
        "outputId": "ddb194f8-dcda-4d9a-8963-1b61b272dd5d"
      },
      "execution_count": null,
      "outputs": [
        {
          "output_type": "stream",
          "name": "stdout",
          "text": [
            "Rushikesh Krishna Daund\n"
          ]
        }
      ]
    }
  ]
}