{
  "nbformat": 4,
  "nbformat_minor": 0,
  "metadata": {
    "colab": {
      "provenance": []
    },
    "kernelspec": {
      "name": "python3",
      "display_name": "Python 3"
    },
    "language_info": {
      "name": "python"
    }
  },
  "cells": [
    {
      "cell_type": "markdown",
      "source": [
        "<h1 align='center'>Assignment No 2</h1>"
      ],
      "metadata": {
        "id": "wenEibsf7UHz"
      }
    },
    {
      "cell_type": "markdown",
      "source": [
        "Q1 What is the relationship between classes and modules?"
      ],
      "metadata": {
        "id": "axBEjlaq7f0I"
      }
    },
    {
      "cell_type": "markdown",
      "source": [
        "- Modules are collections of methods and constants. They cannot generate instances. Classes may generate instances (objects), and have per-instance state (instance variables).\n",
        "\n",
        "- Modules may be mixed in to classes and other modules. The mixed in module’s constants and methods blend into that class’s own, augmenting the class’s functionality. Classes, however, cannot be mixed in to anything.\n",
        "\n",
        "- A class may inherit from another class, but not from a module.\n",
        "\n",
        "- A module may not inherit from anything."
      ],
      "metadata": {
        "id": "3Jqx9yV27nJw"
      }
    },
    {
      "cell_type": "markdown",
      "source": [
        "Q2 How do you make instances and classes?"
      ],
      "metadata": {
        "id": "p7BNjYfqm4Ai"
      }
    },
    {
      "cell_type": "markdown",
      "source": [
        "- To create instances of a class, you call the class using class name and pass in whatever arguments its __init__ method accepts\n",
        "- for  example\n",
        "  - e1 = Employee(101,\"Rushikesh Daund\",85000)\n",
        "  - e2 = Employee(102,\"Krishna Daund\",90256)"
      ],
      "metadata": {
        "id": "M4-jceGmnSgQ"
      }
    },
    {
      "cell_type": "markdown",
      "source": [
        "Q3 Where and how should be class attributes created?"
      ],
      "metadata": {
        "id": "OaAaCQoHn3ei"
      }
    },
    {
      "cell_type": "markdown",
      "source": [
        "- Class attributes are the variables defined directly in the class that are shared by all objects of the class.\n",
        "- Instance attributes are attributes or properties attached to an instance of a class. Instance attributes are defined in the constructor."
      ],
      "metadata": {
        "id": "99se0o9En9sG"
      }
    },
    {
      "cell_type": "markdown",
      "source": [
        "Q4 Where and how are instance attributes created?"
      ],
      "metadata": {
        "id": "k_0tulaksxZo"
      }
    },
    {
      "cell_type": "markdown",
      "source": [
        "- Instance attribute create in `__init__` function \n",
        "- We add instance attributes usually by defining the constructor method `“__init__”`. Within `__init__ `we pass the first parameters self which represents an object from a class that is currently being defined, and usually, we attach instance attributes to these objects using the dot operator. "
      ],
      "metadata": {
        "id": "kws8dJs0sziE"
      }
    },
    {
      "cell_type": "markdown",
      "source": [
        "Q5 What does the term &quot;self&quot; in a Python class mean?"
      ],
      "metadata": {
        "id": "yfqNC3xstYg7"
      }
    },
    {
      "cell_type": "markdown",
      "source": [
        "- self represents the instance of the class. By using the “self”  we can access the attributes and methods of the class in python. It binds the attributes with the given arguments.\n",
        "\n",
        "- The reason you need to use self. is because Python does not use the @ syntax to refer to instance attributes. Python decided to do methods in a way that makes the instance to which the method belongs be passed automatically, but not received automatically: the first parameter of methods is the instance the method is called on."
      ],
      "metadata": {
        "id": "DWt_Ia7etc9c"
      }
    },
    {
      "cell_type": "markdown",
      "source": [
        "Q6 How does a Python class handle operator overloading?"
      ],
      "metadata": {
        "id": "pOGQLwxRtxrV"
      }
    },
    {
      "cell_type": "markdown",
      "source": [
        "- The operator overloading in Python means provide extended meaning beyond their predefined operational meaning. Such as, we use the \"+\" operator for adding two integers as well as joining two strings or merging two lists.\n",
        "-  We can achieve this as the \"+\" operator is overloaded by the \"int\" class and \"str\" class. The user can notice that the same inbuilt operator or function is showing different behaviour for objects of different classes. This process is known as operator overloading."
      ],
      "metadata": {
        "id": "-OwhvsTEt3K8"
      }
    },
    {
      "cell_type": "markdown",
      "source": [
        "Q7 When do you consider allowing operator overloading of your classes?"
      ],
      "metadata": {
        "id": "dFK67xw6uQkS"
      }
    },
    {
      "cell_type": "markdown",
      "source": [
        "- Ensures that objects of a class behave consistently with built-in types and other user-defined types. Makes it simpler to write code, especially for complex data types. Allows for code reuse by implementing one operator method and using it for other operators."
      ],
      "metadata": {
        "id": "bxHQ-6n_uUdK"
      }
    },
    {
      "cell_type": "markdown",
      "source": [
        "Q8 What is the most popular form of operator overloading?"
      ],
      "metadata": {
        "id": "QDfI_0YevYga"
      }
    },
    {
      "cell_type": "markdown",
      "source": [
        "- A very popular and convenient example is the Addition (+) operator. Just think how the '+' operator operates on two numbers and the same operator operates on two strings. It performs “Addition” on numbers whereas it performs “Concatenation” on strings"
      ],
      "metadata": {
        "id": "bwe_KgRQvdua"
      }
    },
    {
      "cell_type": "markdown",
      "source": [
        "Q9 What are the two most important concepts to grasp in order to comprehend Python OOP code?"
      ],
      "metadata": {
        "id": "KiLWV5tevnAS"
      }
    },
    {
      "cell_type": "markdown",
      "source": [
        "- Both inheritance and polymorphism are fundamental concepts of object oriented programming. These concepts help us to create code that can be extended and easily maintainable."
      ],
      "metadata": {
        "id": "ZmCXzAqRvqa6"
      }
    }
  ]
}