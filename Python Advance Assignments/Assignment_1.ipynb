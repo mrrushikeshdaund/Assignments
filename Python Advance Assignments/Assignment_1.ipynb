{
  "nbformat": 4,
  "nbformat_minor": 0,
  "metadata": {
    "colab": {
      "provenance": []
    },
    "kernelspec": {
      "name": "python3",
      "display_name": "Python 3"
    },
    "language_info": {
      "name": "python"
    }
  },
  "cells": [
    {
      "cell_type": "markdown",
      "source": [
        "<h1 align='center'>Assignment No 1</h1>"
      ],
      "metadata": {
        "id": "X1ezkGLxDMnp"
      }
    },
    {
      "cell_type": "markdown",
      "source": [
        "Q1 What is the purpose of Python's OOP?"
      ],
      "metadata": {
        "id": "MYtpQzEBDUCU"
      }
    },
    {
      "cell_type": "markdown",
      "source": [
        "- In Python Object Oriented Programming is a programming paradigm that uses objects and classes in programming.\n",
        "- An OOP amis to implement real world entities like \n",
        "  - Inheritance\n",
        "  - Polymorphisms\n",
        "  - Encapsulation\n",
        "  - Abstraction"
      ],
      "metadata": {
        "id": "t8UYo3DjDezQ"
      }
    },
    {
      "cell_type": "markdown",
      "source": [
        "Q2 Where does an inheritance search look for an attribute?"
      ],
      "metadata": {
        "id": "6x3GTSMjH18S"
      }
    },
    {
      "cell_type": "markdown",
      "source": [
        "- An inheritance search looks for an attribute first in the instance object, then in the class the instance was created from, then in all higher superclasses, progressing from left to right (by default). The search stops at the first place the attribute is found."
      ],
      "metadata": {
        "id": "HwrJh1m_H3y3"
      }
    },
    {
      "cell_type": "markdown",
      "source": [
        "Q3 How do you distinguish between a class object and an instance object?"
      ],
      "metadata": {
        "id": "yY3FfPDXISbg"
      }
    },
    {
      "cell_type": "markdown",
      "source": [
        "Class Object | Instance Object\n",
        "- | -\n",
        "Class is template for declaring's and creating object. | An object is an instance of the class .\n",
        "at the time of class creation no memory is alloted. | at the time of object creation memory is alloted.\n",
        "class is declare first and only created once | object is created many time as per the requirements\n",
        "A class is a logical entity.\t| An object is a physical entity"
      ],
      "metadata": {
        "id": "NvdKWljyKHjA"
      }
    },
    {
      "cell_type": "markdown",
      "source": [
        "Q4 What makes the first argument in a class’s method function special?"
      ],
      "metadata": {
        "id": "xmDnzb0RL0su"
      }
    },
    {
      "cell_type": "markdown",
      "source": [
        "- at the time of creating function in class we are using first argument as a `self` or we can take it as any name \n",
        "- it mean that this methods or function is a class functions\n",
        "-  Example\n",
        "\n",
        "\n",
        "class Sample: <br>\n",
        "  def display(self): <br>\n",
        "    return \"this statement from Sample class\"<br>\n",
        "\n"
      ],
      "metadata": {
        "id": "-t1sKqX5L5LY"
      }
    },
    {
      "cell_type": "markdown",
      "source": [
        "Q5 What is the purpose of the __init__ method?"
      ],
      "metadata": {
        "id": "i878ApolNroS"
      }
    },
    {
      "cell_type": "markdown",
      "source": [
        "- An init is method that assign value to the variable.\n",
        "- to achiveve constructor in python by using `__init__` method.\n",
        "\n",
        "\n",
        "class Sample:<br>\n",
        "  def __init__(self,a,b):<br>\n",
        "    self.a=a<br>\n",
        "    self.b=b<br>\n",
        "    \n",
        "\n",
        "\n"
      ],
      "metadata": {
        "id": "VufE-0uMNwQR"
      }
    },
    {
      "cell_type": "markdown",
      "source": [
        "Q6 What is the process for creating a class instance?"
      ],
      "metadata": {
        "id": "nvOkR_b7OniJ"
      }
    },
    {
      "cell_type": "markdown",
      "source": [
        "- for creating class instance first you have to create class\n",
        "- then after you also create some methods \n",
        "- after that you can directly create object of that class\n",
        "- suppose let taken example sample is class and i have created some methods it can be any thing the after i directly create object of that class by using it's `s1 = Sample()`\n",
        "\n",
        "class Sample:<br>\n",
        "  def __init__(self):<br>\n",
        "    print(\"this is message from Sample class\")\n",
        "\n",
        "s1 = Sample()\n",
        "\n",
        "\n"
      ],
      "metadata": {
        "id": "flnhGSj5Oscn"
      }
    },
    {
      "cell_type": "markdown",
      "source": [
        "Q7 What is the process for creating a class?"
      ],
      "metadata": {
        "id": "HRR-fYc8SXgm"
      }
    },
    {
      "cell_type": "markdown",
      "source": [
        "- Create Class by using class keyword \n",
        "- and indents after that you have to written class body like function and variable's \n",
        "- for example \n",
        "\n",
        "\n",
        "\n",
        "class A: <br>\n",
        "   here you can enter the body of class<br>\n",
        "  pass <br>\n",
        "\n",
        "\n"
      ],
      "metadata": {
        "id": "SzfQ0BR5Sc3Y"
      }
    },
    {
      "cell_type": "markdown",
      "source": [
        "Q8 How would you define the superclasses of a class?"
      ],
      "metadata": {
        "id": "QQ0XQQPVTQGi"
      }
    },
    {
      "cell_type": "markdown",
      "source": [
        "- A class that is derived from another class is called a subclass (also a derived class, extended class, or child class). The class from which the subclass is derived is called a superclass (also a base class or a parent class).\n",
        "\n",
        "\n",
        "class A: # here A is Parent or super class<br>\n",
        "  pass<br>\n",
        "class B(A): # here B is Child or subclass<br>\n",
        "  pass\n",
        "\n",
        "\n"
      ],
      "metadata": {
        "id": "Wi0bTzO1TVUX"
      }
    }
  ]
}