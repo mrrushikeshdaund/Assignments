{
 "cells": [
  {
   "cell_type": "markdown",
   "metadata": {},
   "source": [
    "<h1 align=\"center\">Python Assignment no 1 </h1>"
   ]
  },
  {
   "cell_type": "markdown",
   "metadata": {},
   "source": [
    "<h3> 1. In the below elements which of them are values or an expression? eg:- values can be integer or string and expressions will be mathematical operators. </h3>"
   ]
  },
  {
   "cell_type": "markdown",
   "metadata": {},
   "source": [
    "<p> Answer </p>\n",
    "<table style=\"width:70%\">\n",
    "    <tr>\n",
    "        <th> Values </th>\n",
    "        <th> Expressions </th>\n",
    "    </tr>\n",
    "    <tr>\n",
    "        <td> \"hello\" </td>\n",
    "        <td> * </td>\n",
    "    </tr>\n",
    "    <tr>\n",
    "        <td> -87.8 </td>\n",
    "        <td> - </td>\n",
    "    </tr>\n",
    "    <tr>\n",
    "        <td> 6 </td>\n",
    "        <td> / </td>\n",
    "    </tr>\n",
    "    <tr>\n",
    "        <td> </td>\n",
    "        <td> + </td>\n",
    "    </tr>\n",
    "</table>"
   ]
  },
  {
   "cell_type": "markdown",
   "metadata": {},
   "source": [
    "<h3>2. What is the difference between string and variable? </h3>"
   ]
  },
  {
   "cell_type": "markdown",
   "metadata": {},
   "source": [
    "<p> Answer </p>\n",
    "<table style=\"width:70%\">\n",
    "    <tr>\n",
    "        <th> String </th>\n",
    "        <th> Variable </th>\n",
    "    </tr>\n",
    "    <tr>\n",
    "        <td> Anything you assign to variable using single or double quotes will be considered as a string </td>\n",
    "        <td> variable as an identifier to store a value in a memory location and manipulated if it needed </td>\n",
    "    </tr>\n",
    "    <tr>\n",
    "        <td> Python string are immutable which mean they cannot be changed after they are created. </td>\n",
    "        <td> To Create a variable you just assign it a value and then start using it. assignment is done with a single equals sin (=) </td>\n",
    "    </tr>\n",
    "    <tr>\n",
    "        <td> This are the String<br>\n",
    "'Hello word' </td>\n",
    "        <td> This are the Variable<br>\n",
    "            Number = 10 </td>\n",
    "    </tr>\n",
    "</table>"
   ]
  },
  {
   "cell_type": "markdown",
   "metadata": {},
   "source": [
    "<h3>3. Describe three different data types </h3>"
   ]
  },
  {
   "cell_type": "markdown",
   "metadata": {},
   "source": [
    "<p> Answer </p>\n",
    "<br>\n",
    "<p><b>Numbers</b><br><br>\n",
    "    1 Integer <br>\n",
    "    --> Integer is whole number, Postive or nagative without decimal and there is no Limit to how long an integer value can be <br><br>\n",
    "    2 Float  <br>\n",
    "    -->  Floating point Number is a number postive or nagative and it containing one or more deciamls <br> <br>\n",
    "    3 Complex <br>\n",
    "    -->  A Complex number contains an order pair i.e x + iy where x Denote the Real Parts and y Denotes the imaginary parts But In Python for Reprsenting the imaginary party we written a 'j' <br><br>\n",
    "</p>"
   ]
  },
  {
   "cell_type": "code",
   "execution_count": 1,
   "metadata": {},
   "outputs": [
    {
     "name": "stdout",
     "output_type": "stream",
     "text": [
      "<class 'int'>\n"
     ]
    }
   ],
   "source": [
    "# Int Data Type\n",
    "Number = 10\n",
    "print(type(Number))"
   ]
  },
  {
   "cell_type": "code",
   "execution_count": 2,
   "metadata": {},
   "outputs": [
    {
     "name": "stdout",
     "output_type": "stream",
     "text": [
      "<class 'float'>\n"
     ]
    }
   ],
   "source": [
    "# Float Data Type \n",
    "Number = 20.25\n",
    "print(type(Number))"
   ]
  },
  {
   "cell_type": "code",
   "execution_count": 3,
   "metadata": {},
   "outputs": [
    {
     "name": "stdout",
     "output_type": "stream",
     "text": [
      "<class 'complex'>\n"
     ]
    }
   ],
   "source": [
    "# Complex Number Data Type\n",
    "Complex_Number = 10+25j\n",
    "print(type(Complex_Number))"
   ]
  },
  {
   "cell_type": "markdown",
   "metadata": {},
   "source": [
    "<p> <b>String</b> <br>\n",
    "    --> The String can be defined as the Sequence of characters represented in the quotation marks in Python we can use single, double or Tripl quotes to define a string. To Concatenate the Two string a we can use +.\n",
    "\n",
    "</p>"
   ]
  },
  {
   "cell_type": "code",
   "execution_count": 4,
   "metadata": {},
   "outputs": [
    {
     "name": "stdout",
     "output_type": "stream",
     "text": [
      "<class 'str'>\n"
     ]
    }
   ],
   "source": [
    "s1 = \"Hello Guys\"\n",
    "print(type(s1))"
   ]
  },
  {
   "cell_type": "markdown",
   "metadata": {},
   "source": [
    "<p><b>Boolean</b><br>\n",
    "    --> Boolean type provides two built- in value True and False.These values are used to determine the given statement true or false it denotes by the bool class\n",
    "</p>"
   ]
  },
  {
   "cell_type": "code",
   "execution_count": 5,
   "metadata": {},
   "outputs": [
    {
     "name": "stdout",
     "output_type": "stream",
     "text": [
      "<class 'bool'>\n"
     ]
    }
   ],
   "source": [
    "b = True\n",
    "print(type(b))"
   ]
  },
  {
   "cell_type": "markdown",
   "metadata": {},
   "source": [
    "<h3>4. What is an expression made up of? What do all expressions do?</h3>"
   ]
  },
  {
   "cell_type": "markdown",
   "metadata": {},
   "source": [
    "<p> An expression is a combination of operators and operands that is interpreted to produce some other value. In programming language, an expression is evaluated as per the precedence of its operators. So that if there is more than one operator in an expression, their precedence decides which operation will be performed first. </p>"
   ]
  },
  {
   "cell_type": "markdown",
   "metadata": {},
   "source": [
    "<p> There are three Kind of expressions <br><br>\n",
    "    1 An Arithmetic expression evaluates to single arithmetic value.<br>\n",
    "    2 A character Expression Evaluates to a single value of type character<br>\n",
    "    3 A Logical or Relational Expression evaluates to single logical value.<br>\n",
    "\n",
    "</p>"
   ]
  },
  {
   "cell_type": "code",
   "execution_count": 7,
   "metadata": {},
   "outputs": [
    {
     "name": "stdout",
     "output_type": "stream",
     "text": [
      "Addition = 30\n",
      "Subtraction = -10\n",
      "Multiplication = 200\n"
     ]
    }
   ],
   "source": [
    "# Arithmetic Expression \n",
    "n1 = 10\n",
    "n2 = 20\n",
    "print(\"Addition =\",(n1+n2))\n",
    "print(\"Subtraction =\",(n1-n2))\n",
    "print(\"Multiplication =\",(n1*n2))"
   ]
  },
  {
   "cell_type": "code",
   "execution_count": 9,
   "metadata": {},
   "outputs": [
    {
     "name": "stdout",
     "output_type": "stream",
     "text": [
      "RR\n",
      "DDD\n"
     ]
    }
   ],
   "source": [
    "# Character Expression \n",
    "s1 = 'R'\n",
    "s2 = 'D'\n",
    "print(s1*2)\n",
    "print(s2*3)\n"
   ]
  },
  {
   "cell_type": "code",
   "execution_count": 10,
   "metadata": {},
   "outputs": [
    {
     "name": "stdout",
     "output_type": "stream",
     "text": [
      "True\n",
      "False\n"
     ]
    }
   ],
   "source": [
    "# Logical Expression\n",
    "condition = (10<20)\n",
    "print(condition)\n",
    "equal = (25==20)\n",
    "print(equal)"
   ]
  },
  {
   "cell_type": "markdown",
   "metadata": {},
   "source": [
    "<h3> 5. This assignment statements, like spam = 10. What is the difference between an expression and a statement? </h3>"
   ]
  },
  {
   "cell_type": "markdown",
   "metadata": {},
   "source": [
    "<p><b>Expression</b><br><br>\n",
    "An Expression is a sequence or combination of values, variables,operators and funcation call that always produced or returns a result value.\n",
    "\n",
    "Example: X= 5, y= 3 ,z = x+ y\n",
    "\n",
    "In the above example x,y and z are variables 5 and 3 are values, = and + operators.SO the First combination x= 5 is an expression the second combination y= 3 is an another expression and at last z= x+y is also an expression.\n",
    "\n",
    "  1 The Evaluation of an expression does not changes state and produces at least one value as a result<br>\n",
    "  2 The evaluated result either return to a funcation call or displays at the python prompt<br>\n",
    "  3 A Value or a Variable all by iteself is also considerd an expression, because these always evaluates to itself\n",
    "</p>"
   ]
  },
  {
   "cell_type": "markdown",
   "metadata": {},
   "source": [
    "<p>\n",
    "    <b>Statement:</b><br>\n",
    "    Any instruction that python interprter can execute is called a Statement. A Statement is the smallest executable uint of code that has an effect like creating a variable or displaying a value Each and every line of code that we written in any programming language is called a statement Because all the line are ececutable by the interpreter or compiler of that programming language.\n",
    "<br>\n",
    "    <br>\n",
    "What does mean by instrucation?\n",
    "<br>\n",
    "    ----> An Instruction is an order/command given to a computer processor by a computer program to perform some mathematical or logical manipulations\n",
    "<br>\n",
    "------   1 The execution of a statement changes state<br>\n",
    "------   2 Execution of a statement may or may not produces or display a result value, it only does whatever the statement says.<br>\n",
    "</p>\n",
    "    "
   ]
  },
  {
   "cell_type": "markdown",
   "metadata": {},
   "source": [
    "<h3>6. After running the following code, what does the variable bacon contain? </h3>"
   ]
  },
  {
   "cell_type": "code",
   "execution_count": 11,
   "metadata": {},
   "outputs": [
    {
     "name": "stdout",
     "output_type": "stream",
     "text": [
      "Answer =  22\n"
     ]
    }
   ],
   "source": [
    "bacon = 22\n",
    "bacon + 1\n",
    "print(\"Answer = \",bacon)"
   ]
  },
  {
   "cell_type": "markdown",
   "metadata": {},
   "source": [
    "<h3>7. What should the values of the following two terms be?</h3>"
   ]
  },
  {
   "cell_type": "code",
   "execution_count": 14,
   "metadata": {},
   "outputs": [
    {
     "data": {
      "text/plain": [
       "'spamspamspam'"
      ]
     },
     "execution_count": 14,
     "metadata": {},
     "output_type": "execute_result"
    }
   ],
   "source": [
    "'spam'+'spamspam'"
   ]
  },
  {
   "cell_type": "code",
   "execution_count": 15,
   "metadata": {},
   "outputs": [
    {
     "data": {
      "text/plain": [
       "'spamspamspam'"
      ]
     },
     "execution_count": 15,
     "metadata": {},
     "output_type": "execute_result"
    }
   ],
   "source": [
    "'spam'*3"
   ]
  },
  {
   "cell_type": "markdown",
   "metadata": {},
   "source": [
    "<h3>8. Why is eggs a valid variable name while 100 is invalid?</h3>"
   ]
  },
  {
   "cell_type": "markdown",
   "metadata": {},
   "source": [
    "<p>-----> A variable name and an identifier can consist of the uppercase letters \"A\" through \"Z\", the lowercase letters \"a\" through \"z\", the underscore _ and, except for the first character, the digits 0 through 9. Python 3.x is based on Unicode. That is, variable names and identifier names can additionally contain Unicode characters as well.<br><br>\n",
    "Here eggs is valid becuse of it satisfy the above condtion. which is eggs is consistes of lower case and first character does not start with number. but in the second example 100 does not follow the condition and also first charater is start with number so that why this is invalid.\n",
    "</p>\n"
   ]
  },
  {
   "cell_type": "markdown",
   "metadata": {},
   "source": [
    "<h3>9. What three functions can be used to get the integer, floating-point number, or string version of a value?</h3>"
   ]
  },
  {
   "cell_type": "markdown",
   "metadata": {},
   "source": [
    "<p>The int(), float(), and str() functions will evaluate to the integer, floating-point number, and string versions of the value passed to them.</p>"
   ]
  },
  {
   "cell_type": "markdown",
   "metadata": {},
   "source": [
    "<h3>10. Why does this expression cause an error? How can you fix it?</h3>"
   ]
  },
  {
   "cell_type": "code",
   "execution_count": 17,
   "metadata": {},
   "outputs": [
    {
     "data": {
      "text/plain": [
       "'I have eaten 99 burritos.'"
      ]
     },
     "execution_count": 17,
     "metadata": {},
     "output_type": "execute_result"
    }
   ],
   "source": [
    "'I have eaten ' + str(99) + ' burritos.'"
   ]
  }
 ],
 "metadata": {
  "kernelspec": {
   "display_name": "Python 3",
   "language": "python",
   "name": "python3"
  },
  "language_info": {
   "codemirror_mode": {
    "name": "ipython",
    "version": 3
   },
   "file_extension": ".py",
   "mimetype": "text/x-python",
   "name": "python",
   "nbconvert_exporter": "python",
   "pygments_lexer": "ipython3",
   "version": "3.7.6"
  }
 },
 "nbformat": 4,
 "nbformat_minor": 4
}
