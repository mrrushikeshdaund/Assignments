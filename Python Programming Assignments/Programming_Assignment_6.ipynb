{
  "nbformat": 4,
  "nbformat_minor": 0,
  "metadata": {
    "colab": {
      "provenance": [],
      "collapsed_sections": []
    },
    "kernelspec": {
      "name": "python3",
      "display_name": "Python 3"
    },
    "language_info": {
      "name": "python"
    }
  },
  "cells": [
    {
      "cell_type": "markdown",
      "source": [
        "<h1 align=\"center\">Assignment No 6</h1>"
      ],
      "metadata": {
        "id": "BedTc4zdfBi3"
      }
    },
    {
      "cell_type": "markdown",
      "source": [
        "Q1.\tWrite a Python Program to Display Fibonacci Sequence Using Recursion?"
      ],
      "metadata": {
        "id": "XriA_pDHfL9_"
      }
    },
    {
      "cell_type": "code",
      "execution_count": null,
      "metadata": {
        "id": "BOklPVTte3s3",
        "colab": {
          "base_uri": "https://localhost:8080/"
        },
        "outputId": "f0e7aa39-d634-479c-d924-a5683af8e06d"
      },
      "outputs": [
        {
          "output_type": "stream",
          "name": "stdout",
          "text": [
            "Enter Number : 10\n",
            "0\n",
            "1\n",
            "1\n",
            "2\n",
            "3\n",
            "5\n",
            "8\n",
            "13\n",
            "21\n",
            "34\n"
          ]
        }
      ],
      "source": [
        "def fibonacci(num):\n",
        "  if num<=1:\n",
        "    return num\n",
        "  return fibonacci(num-1) + fibonacci(num-2)\n",
        "\n",
        "number = int(input(\"Enter Number : \"))\n",
        "for i in range(number):\n",
        "  print(fibonacci(i))\n"
      ]
    },
    {
      "cell_type": "markdown",
      "source": [
        "Q2.\tWrite a Python Program to Find Factorial of Number Using Recursion?"
      ],
      "metadata": {
        "id": "beDuoKXJ-ldj"
      }
    },
    {
      "cell_type": "code",
      "source": [
        "def factorial(num):\n",
        "  if num==1:\n",
        "    return 1\n",
        "  else:\n",
        "    return num * factorial(num-1)\n",
        "\n",
        "number = int(input(\"Enter Number : \"))\n",
        "result = factorial(number)\n",
        "print(f\"{number} factorial is {result}\")"
      ],
      "metadata": {
        "colab": {
          "base_uri": "https://localhost:8080/"
        },
        "id": "soGrQex-53yw",
        "outputId": "1de05ef2-ac39-4361-8db3-76841678587b"
      },
      "execution_count": null,
      "outputs": [
        {
          "output_type": "stream",
          "name": "stdout",
          "text": [
            "Enter Number : 5\n",
            "5 factorial is 120\n"
          ]
        }
      ]
    },
    {
      "cell_type": "markdown",
      "source": [
        "Q3.\tWrite a Python Program to calculate your Body Mass Index?"
      ],
      "metadata": {
        "id": "uBtSC9S0Asft"
      }
    },
    {
      "cell_type": "code",
      "source": [
        "weight = float(input(\"Enter Your Weight : \"))\n",
        "height = float(input(\"Enter Your Height : \"))\n",
        "\n",
        "result = weight/height**2\n",
        "print(f\"\"\"\n",
        "As Per Your Weight {weight} \n",
        "and Your Height {height} \n",
        "BMI is {result}\"\"\")"
      ],
      "metadata": {
        "colab": {
          "base_uri": "https://localhost:8080/"
        },
        "id": "7xdMpH-69Wkc",
        "outputId": "f0dd4897-4c2f-49cf-e388-bd79ee5f9610"
      },
      "execution_count": null,
      "outputs": [
        {
          "output_type": "stream",
          "name": "stdout",
          "text": [
            "Enter Your Weight : 60\n",
            "Enter Your Height : 1.52\n",
            "\n",
            "As Per Your Weight 60.0 \n",
            "and Your Height 1.52 \n",
            "BMI is 25.969529085872576\n"
          ]
        }
      ]
    },
    {
      "cell_type": "markdown",
      "source": [
        "Q4.\tWrite a Python Program to calculate the natural logarithm of any number?"
      ],
      "metadata": {
        "id": "t18yY6R31kHd"
      }
    },
    {
      "cell_type": "code",
      "source": [
        "import math\n",
        "number = float(input(\"Enter Number : \"))\n",
        "print(f\"Natural Logarithm :  {math.log(23)}\")"
      ],
      "metadata": {
        "id": "Ha6AIeTXBwDK",
        "colab": {
          "base_uri": "https://localhost:8080/"
        },
        "outputId": "53a1bc3a-1300-43a9-ef09-2faf8578694a"
      },
      "execution_count": null,
      "outputs": [
        {
          "output_type": "stream",
          "name": "stdout",
          "text": [
            "Enter Number : 23\n",
            "Natural Logarithm :  3.1354942159291497\n"
          ]
        }
      ]
    },
    {
      "cell_type": "markdown",
      "source": [
        "Q5.\tWrite a Python Program for cube sum of first n natural numbers?"
      ],
      "metadata": {
        "id": "gmLT3h6dGPu4"
      }
    },
    {
      "cell_type": "code",
      "source": [
        "number = int(input(\"Enter Number : \"))\n",
        "sum = 0\n",
        "for i in range(number+1):\n",
        "  sum = sum + i**3\n",
        "\n",
        "print(f\"{number} Cube Sum Of  : {sum}\")\n"
      ],
      "metadata": {
        "id": "1EReQ0zk4Pq4",
        "colab": {
          "base_uri": "https://localhost:8080/"
        },
        "outputId": "086240e9-869b-4642-f477-6f790ebe9f1c"
      },
      "execution_count": null,
      "outputs": [
        {
          "output_type": "stream",
          "name": "stdout",
          "text": [
            "Enter Number : 7\n",
            "7 Cube Sum Of  : 784\n"
          ]
        }
      ]
    }
  ]
}